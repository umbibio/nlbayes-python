{
 "cells": [
  {
   "cell_type": "code",
   "execution_count": 1,
   "metadata": {},
   "outputs": [],
   "source": [
    "import numpy as np\n",
    "from sklearn import metrics\n",
    "import matplotlib.pyplot as plt\n",
    "\n",
    "from nlbayes import ORNOR\n",
    "from nlbayes.utils import gen_network, gen_evidence"
   ]
  },
  {
   "cell_type": "code",
   "execution_count": 2,
   "metadata": {},
   "outputs": [],
   "source": [
    "net = network = gen_network(\n",
    "        NX=125,      # total number of transcription factors\n",
    "        NY=2500,     # total number of target genes\n",
    "        AvgNTF=5,   # number of TFs that regulate a gene (average)\n",
    ")"
   ]
  },
  {
   "cell_type": "code",
   "execution_count": 3,
   "metadata": {},
   "outputs": [
    {
     "data": {
      "text/plain": [
       "array(['TF106', 'TF059', 'TF039', 'TF006', 'TF010'], dtype='<U5')"
      ]
     },
     "execution_count": 3,
     "metadata": {},
     "output_type": "execute_result"
    }
   ],
   "source": [
    "# randomly select 5 TFs as active\n",
    "candidates = list(network.keys())\n",
    "active_tfs = np.random.choice(candidates, size=5, replace=False)\n",
    "active_tfs"
   ]
  },
  {
   "cell_type": "code",
   "execution_count": 4,
   "metadata": {},
   "outputs": [
    {
     "name": "stdout",
     "output_type": "stream",
     "text": [
      "ngtac=5, ndegs=190, nrels=12861\n"
     ]
    }
   ],
   "source": [
    "evd = evidence = gen_evidence(\n",
    "        network=network,\n",
    "        active_tfs=active_tfs,  # known set of active TFs. TFs with small regulon may not appear as active.\n",
    "        tf_target_fraction=0.2, # only a fraction of a TF\"s targets will become diff. expr.\n",
    ")"
   ]
  },
  {
   "cell_type": "code",
   "execution_count": 5,
   "metadata": {},
   "outputs": [
    {
     "name": "stdout",
     "output_type": "stream",
     "text": [
      "\n",
      "Initializing model burn-in ...\n",
      "\n"
     ]
    },
    {
     "name": "stderr",
     "output_type": "stream",
     "text": [
      "100%|██████████| 20/20 [00:00<00:00, 24.05it/s]\n"
     ]
    },
    {
     "name": "stdout",
     "output_type": "stream",
     "text": [
      "Converged after 20 samples\n",
      "Max Gelman-Rubin statistic is 1.6797171517632505 (target was 5.0 )\n",
      "Burn-in complete ...\n",
      "\n"
     ]
    },
    {
     "name": "stderr",
     "output_type": "stream",
     "text": [
      "100%|██████████| 170/170 [00:09<00:00, 18.21it/s]"
     ]
    },
    {
     "name": "stdout",
     "output_type": "stream",
     "text": [
      "Converged after 170 samples\n",
      "Max Gelman-Rubin statistic is 1.096158857532597 (target was 1.1 )\n"
     ]
    },
    {
     "name": "stderr",
     "output_type": "stream",
     "text": [
      "\n"
     ]
    },
    {
     "data": {
      "text/plain": [
       "<nlbayes.ornor.ORNOR at 0x7f46e24f7530>"
      ]
     },
     "execution_count": 5,
     "metadata": {},
     "output_type": "execute_result"
    }
   ],
   "source": [
    "model = ORNOR(network, evidence, n_graphs=5, uniform_prior=False)\n",
    "model.fit(n_samples=2000, gelman_rubin=1.1, burnin=True)"
   ]
  },
  {
   "cell_type": "code",
   "execution_count": 6,
   "metadata": {},
   "outputs": [
    {
     "data": {
      "text/html": [
       "<div>\n",
       "<style scoped>\n",
       "    .dataframe tbody tr th:only-of-type {\n",
       "        vertical-align: middle;\n",
       "    }\n",
       "\n",
       "    .dataframe tbody tr th {\n",
       "        vertical-align: top;\n",
       "    }\n",
       "\n",
       "    .dataframe thead th {\n",
       "        text-align: right;\n",
       "    }\n",
       "</style>\n",
       "<table border=\"1\" class=\"dataframe\">\n",
       "  <thead>\n",
       "    <tr style=\"text-align: right;\">\n",
       "      <th></th>\n",
       "      <th>TF_id</th>\n",
       "      <th>tot_trgs</th>\n",
       "      <th>dif_trgs</th>\n",
       "      <th>gt_act</th>\n",
       "      <th>X</th>\n",
       "      <th>T</th>\n",
       "    </tr>\n",
       "    <tr>\n",
       "      <th>rank</th>\n",
       "      <th></th>\n",
       "      <th></th>\n",
       "      <th></th>\n",
       "      <th></th>\n",
       "      <th></th>\n",
       "      <th></th>\n",
       "    </tr>\n",
       "  </thead>\n",
       "  <tbody>\n",
       "    <tr>\n",
       "      <th>1</th>\n",
       "      <td>TF006</td>\n",
       "      <td>260</td>\n",
       "      <td>57</td>\n",
       "      <td>True</td>\n",
       "      <td>1.000000</td>\n",
       "      <td>0.933647</td>\n",
       "    </tr>\n",
       "    <tr>\n",
       "      <th>2</th>\n",
       "      <td>TF010</td>\n",
       "      <td>231</td>\n",
       "      <td>54</td>\n",
       "      <td>True</td>\n",
       "      <td>1.000000</td>\n",
       "      <td>0.899673</td>\n",
       "    </tr>\n",
       "    <tr>\n",
       "      <th>3</th>\n",
       "      <td>TF039</td>\n",
       "      <td>124</td>\n",
       "      <td>29</td>\n",
       "      <td>True</td>\n",
       "      <td>1.000000</td>\n",
       "      <td>0.915699</td>\n",
       "    </tr>\n",
       "    <tr>\n",
       "      <th>4</th>\n",
       "      <td>TF059</td>\n",
       "      <td>90</td>\n",
       "      <td>22</td>\n",
       "      <td>True</td>\n",
       "      <td>1.000000</td>\n",
       "      <td>0.874771</td>\n",
       "    </tr>\n",
       "    <tr>\n",
       "      <th>5</th>\n",
       "      <td>TF106</td>\n",
       "      <td>28</td>\n",
       "      <td>6</td>\n",
       "      <td>True</td>\n",
       "      <td>0.992647</td>\n",
       "      <td>0.776308</td>\n",
       "    </tr>\n",
       "    <tr>\n",
       "      <th>6</th>\n",
       "      <td>TF004</td>\n",
       "      <td>281</td>\n",
       "      <td>23</td>\n",
       "      <td>False</td>\n",
       "      <td>0.250000</td>\n",
       "      <td>0.520273</td>\n",
       "    </tr>\n",
       "    <tr>\n",
       "      <th>7</th>\n",
       "      <td>TF023</td>\n",
       "      <td>168</td>\n",
       "      <td>15</td>\n",
       "      <td>False</td>\n",
       "      <td>0.160294</td>\n",
       "      <td>0.526931</td>\n",
       "    </tr>\n",
       "    <tr>\n",
       "      <th>8</th>\n",
       "      <td>TF037</td>\n",
       "      <td>133</td>\n",
       "      <td>12</td>\n",
       "      <td>False</td>\n",
       "      <td>0.102941</td>\n",
       "      <td>0.505780</td>\n",
       "    </tr>\n",
       "    <tr>\n",
       "      <th>9</th>\n",
       "      <td>TF123</td>\n",
       "      <td>5</td>\n",
       "      <td>1</td>\n",
       "      <td>False</td>\n",
       "      <td>0.085294</td>\n",
       "      <td>0.515272</td>\n",
       "    </tr>\n",
       "    <tr>\n",
       "      <th>10</th>\n",
       "      <td>TF081</td>\n",
       "      <td>59</td>\n",
       "      <td>8</td>\n",
       "      <td>False</td>\n",
       "      <td>0.079412</td>\n",
       "      <td>0.501753</td>\n",
       "    </tr>\n",
       "    <tr>\n",
       "      <th>11</th>\n",
       "      <td>TF108</td>\n",
       "      <td>28</td>\n",
       "      <td>2</td>\n",
       "      <td>False</td>\n",
       "      <td>0.052941</td>\n",
       "      <td>0.520463</td>\n",
       "    </tr>\n",
       "    <tr>\n",
       "      <th>12</th>\n",
       "      <td>TF070</td>\n",
       "      <td>74</td>\n",
       "      <td>7</td>\n",
       "      <td>False</td>\n",
       "      <td>0.045588</td>\n",
       "      <td>0.536697</td>\n",
       "    </tr>\n",
       "    <tr>\n",
       "      <th>13</th>\n",
       "      <td>TF114</td>\n",
       "      <td>21</td>\n",
       "      <td>1</td>\n",
       "      <td>False</td>\n",
       "      <td>0.044118</td>\n",
       "      <td>0.489974</td>\n",
       "    </tr>\n",
       "    <tr>\n",
       "      <th>14</th>\n",
       "      <td>TF076</td>\n",
       "      <td>65</td>\n",
       "      <td>5</td>\n",
       "      <td>False</td>\n",
       "      <td>0.042647</td>\n",
       "      <td>0.502793</td>\n",
       "    </tr>\n",
       "    <tr>\n",
       "      <th>15</th>\n",
       "      <td>TF109</td>\n",
       "      <td>28</td>\n",
       "      <td>2</td>\n",
       "      <td>False</td>\n",
       "      <td>0.041176</td>\n",
       "      <td>0.478101</td>\n",
       "    </tr>\n",
       "  </tbody>\n",
       "</table>\n",
       "</div>"
      ],
      "text/plain": [
       "      TF_id  tot_trgs  dif_trgs  gt_act         X         T\n",
       "rank                                                       \n",
       "1     TF006       260        57    True  1.000000  0.933647\n",
       "2     TF010       231        54    True  1.000000  0.899673\n",
       "3     TF039       124        29    True  1.000000  0.915699\n",
       "4     TF059        90        22    True  1.000000  0.874771\n",
       "5     TF106        28         6    True  0.992647  0.776308\n",
       "6     TF004       281        23   False  0.250000  0.520273\n",
       "7     TF023       168        15   False  0.160294  0.526931\n",
       "8     TF037       133        12   False  0.102941  0.505780\n",
       "9     TF123         5         1   False  0.085294  0.515272\n",
       "10    TF081        59         8   False  0.079412  0.501753\n",
       "11    TF108        28         2   False  0.052941  0.520463\n",
       "12    TF070        74         7   False  0.045588  0.536697\n",
       "13    TF114        21         1   False  0.044118  0.489974\n",
       "14    TF076        65         5   False  0.042647  0.502793\n",
       "15    TF109        28         2   False  0.041176  0.478101"
      ]
     },
     "execution_count": 6,
     "metadata": {},
     "output_type": "execute_result"
    }
   ],
   "source": [
    "df = results = model.get_results()\n",
    "\n",
    "df[\"gt_act\"] = df[\"TF_id\"].isin(active_tfs)     # ground truth for active TFs\n",
    "def fn(src):\n",
    "    return len(network[src])\n",
    "df[\"tot_trgs\"] = df[\"TF_id\"].apply(fn)              # total number of targets for each TF\n",
    "def fn(src):\n",
    "    return sum([evd.get(k, 0) != 0 for k in net[src].keys()])\n",
    "df[\"dif_trgs\"] = df[\"TF_id\"].apply(fn)              # number of targets that are diff. expr.\n",
    "\n",
    "df = df.iloc[:, [0, 4, 5, 3, 1, 2]]\n",
    "df.sort_values([\"gt_act\", \"X\"], ascending=False).head(15) # show active TFs first"
   ]
  },
  {
   "cell_type": "code",
   "execution_count": 7,
   "metadata": {},
   "outputs": [],
   "source": [
    "def plot_metric(method_name):\n",
    "    curve = getattr(metrics, method_name)(df.gt_act, df.X)\n",
    "\n",
    "    if method_name == \"roc_curve\":\n",
    "        x, y = curve[:2]\n",
    "        plt.plot((0,1), (0,1), c=\"gray\", linestyle=\"--\")\n",
    "    if method_name == \"precision_recall_curve\":\n",
    "        y, x = curve[:2]\n",
    "        plt.plot((0,1), (1,0), c=\"gray\", linestyle=\"--\")\n",
    "    \n",
    "    auc = metrics.auc(x, y)\n",
    "    plt.plot(x, y)\n",
    "    plt.xlim(-.05,1.05)\n",
    "    plt.ylim(-.05,1.05)\n",
    "    plt.gca().set_aspect(\"equal\")\n",
    "    plt.grid(visible=True, which=\"major\", color=\"lightgray\", linestyle=\"-\")\n",
    "    plt.title(\" \".join(method_name.split(\"_\")) + f\", {auc = :.4f}\")\n",
    "    plt.show()\n"
   ]
  },
  {
   "cell_type": "code",
   "execution_count": 8,
   "metadata": {},
   "outputs": [
    {
     "data": {
      "image/png": "[encoded data removed]",
      "text/plain": [
       "<Figure size 640x480 with 1 Axes>"
      ]
     },
     "metadata": {},
     "output_type": "display_data"
    }
   ],
   "source": [
    "plot_metric(\"roc_curve\")"
   ]
  },
  {
   "cell_type": "code",
   "execution_count": 9,
   "metadata": {},
   "outputs": [
    {
     "data": {
      "image/png": "[encoded data removed]",
      "text/plain": [
       "<Figure size 640x480 with 1 Axes>"
      ]
     },
     "metadata": {},
     "output_type": "display_data"
    }
   ],
   "source": [
    "plot_metric(\"precision_recall_curve\")"
   ]
  },
  {
   "cell_type": "code",
   "execution_count": null,
   "metadata": {},
   "outputs": [],
   "source": []
  }
 ],
 "metadata": {
  "kernelspec": {
   "display_name": ".venv",
   "language": "python",
   "name": "python3"
  },
  "language_info": {
   "codemirror_mode": {
    "name": "ipython",
    "version": 3
   },
   "file_extension": ".py",
   "mimetype": "text/x-python",
   "name": "python",
   "nbconvert_exporter": "python",
   "pygments_lexer": "ipython3",
   "version": "3.12.8"
  },
  "orig_nbformat": 4
 },
 "nbformat": 4,
 "nbformat_minor": 2
}
