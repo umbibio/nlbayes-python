{
 "cells": [
  {
   "cell_type": "code",
   "execution_count": 1,
   "metadata": {},
   "outputs": [],
   "source": [
    "import numpy as np\n",
    "from sklearn import metrics\n",
    "import matplotlib.pyplot as plt\n",
    "\n",
    "import nlbayes\n",
    "from nlbayes.utils import gen_network, gen_evidence"
   ]
  },
  {
   "cell_type": "code",
   "execution_count": 2,
   "metadata": {},
   "outputs": [],
   "source": [
    "net = network = gen_network(\n",
    "        NX=125,      # total number of transcription factors\n",
    "        NY=2500,     # total number of target genes\n",
    "        AvgNTF=5,   # number of TFs that regulate a gene (average)\n",
    ")"
   ]
  },
  {
   "cell_type": "code",
   "execution_count": 3,
   "metadata": {},
   "outputs": [
    {
     "data": {
      "text/plain": [
       "array(['TF001', 'TF054', 'TF043', 'TF114', 'TF039'], dtype='<U5')"
      ]
     },
     "execution_count": 3,
     "metadata": {},
     "output_type": "execute_result"
    }
   ],
   "source": [
    "# randomly select 5 TFs as active\n",
    "candidates = list(network.keys())\n",
    "active_tfs = np.random.choice(candidates, size=5, replace=False)\n",
    "active_tfs"
   ]
  },
  {
   "cell_type": "code",
   "execution_count": 4,
   "metadata": {},
   "outputs": [
    {
     "name": "stdout",
     "output_type": "stream",
     "text": [
      "ngtac=5, ndegs=224, nrels=13796\n"
     ]
    }
   ],
   "source": [
    "evd = evidence = gen_evidence(\n",
    "        network=network,\n",
    "        active_tfs=active_tfs,  # known set of active TFs. TFs with small regulon may not appear as active.\n",
    "        tf_target_fraction=0.2, # only a fraction of a TF's targets will become diff. expr.\n",
    ")"
   ]
  },
  {
   "cell_type": "code",
   "execution_count": 5,
   "metadata": {},
   "outputs": [
    {
     "name": "stdout",
     "output_type": "stream",
     "text": [
      "\n",
      "Initializing model burn-in ...\n",
      "\n"
     ]
    },
    {
     "name": "stderr",
     "output_type": "stream",
     "text": [
      "100%|██████████| 20/20 [00:02<00:00,  9.14it/s]\n"
     ]
    },
    {
     "name": "stdout",
     "output_type": "stream",
     "text": [
      "Converged after 20 samples\n",
      "Max Gelman-Rubin statistic is 1.79866709466345 (target was 5.0 )\n",
      "Burn-in complete ...\n",
      "\n"
     ]
    },
    {
     "name": "stderr",
     "output_type": "stream",
     "text": [
      "100%|██████████| 190/190 [00:21<00:00,  8.95it/s]"
     ]
    },
    {
     "name": "stdout",
     "output_type": "stream",
     "text": [
      "Converged after 190 samples\n",
      "Max Gelman-Rubin statistic is 1.0912761675080134 (target was 1.1 )\n"
     ]
    },
    {
     "name": "stderr",
     "output_type": "stream",
     "text": [
      "\n"
     ]
    }
   ],
   "source": [
    "model = nlbayes.ModelORNOR(network, evidence, uniform_t = False, n_graphs=5)\n",
    "model.sample_posterior(N=2000, gr_level=1.1, burnin=True)"
   ]
  },
  {
   "cell_type": "code",
   "execution_count": 6,
   "metadata": {},
   "outputs": [
    {
     "data": {
      "text/html": [
       "<div>\n",
       "<style scoped>\n",
       "    .dataframe tbody tr th:only-of-type {\n",
       "        vertical-align: middle;\n",
       "    }\n",
       "\n",
       "    .dataframe tbody tr th {\n",
       "        vertical-align: top;\n",
       "    }\n",
       "\n",
       "    .dataframe thead th {\n",
       "        text-align: right;\n",
       "    }\n",
       "</style>\n",
       "<table border=\"1\" class=\"dataframe\">\n",
       "  <thead>\n",
       "    <tr style=\"text-align: right;\">\n",
       "      <th></th>\n",
       "      <th>TF_id</th>\n",
       "      <th>tot_trgs</th>\n",
       "      <th>dif_trgs</th>\n",
       "      <th>gt_act</th>\n",
       "      <th>X</th>\n",
       "      <th>T</th>\n",
       "    </tr>\n",
       "    <tr>\n",
       "      <th>rank</th>\n",
       "      <th></th>\n",
       "      <th></th>\n",
       "      <th></th>\n",
       "      <th></th>\n",
       "      <th></th>\n",
       "      <th></th>\n",
       "    </tr>\n",
       "  </thead>\n",
       "  <tbody>\n",
       "    <tr>\n",
       "      <th>1</th>\n",
       "      <td>TF001</td>\n",
       "      <td>544</td>\n",
       "      <td>125</td>\n",
       "      <td>True</td>\n",
       "      <td>1.000000</td>\n",
       "      <td>0.972307</td>\n",
       "    </tr>\n",
       "    <tr>\n",
       "      <th>2</th>\n",
       "      <td>TF054</td>\n",
       "      <td>117</td>\n",
       "      <td>29</td>\n",
       "      <td>True</td>\n",
       "      <td>1.000000</td>\n",
       "      <td>0.863586</td>\n",
       "    </tr>\n",
       "    <tr>\n",
       "      <th>3</th>\n",
       "      <td>TF043</td>\n",
       "      <td>129</td>\n",
       "      <td>28</td>\n",
       "      <td>True</td>\n",
       "      <td>1.000000</td>\n",
       "      <td>0.887114</td>\n",
       "    </tr>\n",
       "    <tr>\n",
       "      <th>4</th>\n",
       "      <td>TF039</td>\n",
       "      <td>132</td>\n",
       "      <td>33</td>\n",
       "      <td>True</td>\n",
       "      <td>1.000000</td>\n",
       "      <td>0.904593</td>\n",
       "    </tr>\n",
       "    <tr>\n",
       "      <th>5</th>\n",
       "      <td>TF114</td>\n",
       "      <td>23</td>\n",
       "      <td>6</td>\n",
       "      <td>True</td>\n",
       "      <td>0.634211</td>\n",
       "      <td>0.645383</td>\n",
       "    </tr>\n",
       "    <tr>\n",
       "      <th>6</th>\n",
       "      <td>TF058</td>\n",
       "      <td>112</td>\n",
       "      <td>11</td>\n",
       "      <td>False</td>\n",
       "      <td>0.540789</td>\n",
       "      <td>0.606001</td>\n",
       "    </tr>\n",
       "    <tr>\n",
       "      <th>7</th>\n",
       "      <td>TF037</td>\n",
       "      <td>134</td>\n",
       "      <td>15</td>\n",
       "      <td>False</td>\n",
       "      <td>0.188158</td>\n",
       "      <td>0.560430</td>\n",
       "    </tr>\n",
       "    <tr>\n",
       "      <th>8</th>\n",
       "      <td>TF125</td>\n",
       "      <td>8</td>\n",
       "      <td>1</td>\n",
       "      <td>False</td>\n",
       "      <td>0.072368</td>\n",
       "      <td>0.514661</td>\n",
       "    </tr>\n",
       "    <tr>\n",
       "      <th>9</th>\n",
       "      <td>TF123</td>\n",
       "      <td>15</td>\n",
       "      <td>4</td>\n",
       "      <td>False</td>\n",
       "      <td>0.032895</td>\n",
       "      <td>0.498352</td>\n",
       "    </tr>\n",
       "    <tr>\n",
       "      <th>10</th>\n",
       "      <td>TF106</td>\n",
       "      <td>36</td>\n",
       "      <td>3</td>\n",
       "      <td>False</td>\n",
       "      <td>0.030263</td>\n",
       "      <td>0.464137</td>\n",
       "    </tr>\n",
       "    <tr>\n",
       "      <th>11</th>\n",
       "      <td>TF088</td>\n",
       "      <td>55</td>\n",
       "      <td>4</td>\n",
       "      <td>False</td>\n",
       "      <td>0.027632</td>\n",
       "      <td>0.500124</td>\n",
       "    </tr>\n",
       "    <tr>\n",
       "      <th>12</th>\n",
       "      <td>TF092</td>\n",
       "      <td>50</td>\n",
       "      <td>3</td>\n",
       "      <td>False</td>\n",
       "      <td>0.023684</td>\n",
       "      <td>0.486795</td>\n",
       "    </tr>\n",
       "    <tr>\n",
       "      <th>13</th>\n",
       "      <td>TF078</td>\n",
       "      <td>67</td>\n",
       "      <td>3</td>\n",
       "      <td>False</td>\n",
       "      <td>0.023684</td>\n",
       "      <td>0.536491</td>\n",
       "    </tr>\n",
       "    <tr>\n",
       "      <th>14</th>\n",
       "      <td>TF084</td>\n",
       "      <td>59</td>\n",
       "      <td>7</td>\n",
       "      <td>False</td>\n",
       "      <td>0.013158</td>\n",
       "      <td>0.496996</td>\n",
       "    </tr>\n",
       "    <tr>\n",
       "      <th>15</th>\n",
       "      <td>TF120</td>\n",
       "      <td>20</td>\n",
       "      <td>2</td>\n",
       "      <td>False</td>\n",
       "      <td>0.011842</td>\n",
       "      <td>0.529662</td>\n",
       "    </tr>\n",
       "  </tbody>\n",
       "</table>\n",
       "</div>"
      ],
      "text/plain": [
       "      TF_id  tot_trgs  dif_trgs  gt_act         X         T\n",
       "rank                                                       \n",
       "1     TF001       544       125    True  1.000000  0.972307\n",
       "2     TF054       117        29    True  1.000000  0.863586\n",
       "3     TF043       129        28    True  1.000000  0.887114\n",
       "4     TF039       132        33    True  1.000000  0.904593\n",
       "5     TF114        23         6    True  0.634211  0.645383\n",
       "6     TF058       112        11   False  0.540789  0.606001\n",
       "7     TF037       134        15   False  0.188158  0.560430\n",
       "8     TF125         8         1   False  0.072368  0.514661\n",
       "9     TF123        15         4   False  0.032895  0.498352\n",
       "10    TF106        36         3   False  0.030263  0.464137\n",
       "11    TF088        55         4   False  0.027632  0.500124\n",
       "12    TF092        50         3   False  0.023684  0.486795\n",
       "13    TF078        67         3   False  0.023684  0.536491\n",
       "14    TF084        59         7   False  0.013158  0.496996\n",
       "15    TF120        20         2   False  0.011842  0.529662"
      ]
     },
     "execution_count": 6,
     "metadata": {},
     "output_type": "execute_result"
    }
   ],
   "source": [
    "df = model.inference_posterior_df()\n",
    "\n",
    "df['gt_act'] = df['TF_id'].isin(active_tfs)     # ground truth for active TFs\n",
    "f = lambda src: len(network[src])\n",
    "df['tot_trgs'] = df.TF_id.apply(f)              # total number of targets for each TF\n",
    "f = lambda src: sum([evd.get(k, 0) != 0 for k in net[src].keys()])\n",
    "df['dif_trgs'] = df.TF_id.apply(f)              # number of targets that are diff. expr.\n",
    "\n",
    "df = df.iloc[:, [0, 4, 5, 3, 1, 2]]\n",
    "df.sort_values(['gt_act', 'X'], ascending=False).head(15) # show active TFs first"
   ]
  },
  {
   "cell_type": "code",
   "execution_count": 7,
   "metadata": {},
   "outputs": [],
   "source": [
    "def plot_metric(method_name):\n",
    "    curve = getattr(metrics, method_name)(df.gt_act, df.X)\n",
    "\n",
    "    if method_name == 'roc_curve':\n",
    "        x, y = curve[:2]\n",
    "        plt.plot((0,1), (0,1), c='gray', linestyle='--')\n",
    "    if method_name == 'precision_recall_curve':\n",
    "        y, x = curve[:2]\n",
    "        plt.plot((0,1), (1,0), c='gray', linestyle='--')\n",
    "    \n",
    "    auc = metrics.auc(x, y)\n",
    "    plt.plot(x, y)\n",
    "    plt.xlim(-.05,1.05)\n",
    "    plt.ylim(-.05,1.05)\n",
    "    plt.gca().set_aspect('equal')\n",
    "    plt.grid(visible=True, which='major', color='lightgray', linestyle='-')\n",
    "    plt.title(' '.join(method_name.split('_')) + f', {auc = :.4f}')\n",
    "    plt.show()\n"
   ]
  },
  {
   "cell_type": "code",
   "execution_count": 8,
   "metadata": {},
   "outputs": [
    {
     "data": {
      "image/png": "[encoded data removed]",
      "text/plain": [
       "<Figure size 640x480 with 1 Axes>"
      ]
     },
     "metadata": {},
     "output_type": "display_data"
    }
   ],
   "source": [
    "plot_metric('roc_curve')"
   ]
  },
  {
   "cell_type": "code",
   "execution_count": 9,
   "metadata": {},
   "outputs": [
    {
     "data": {
      "image/png": "[encoded data removed]",
      "text/plain": [
       "<Figure size 640x480 with 1 Axes>"
      ]
     },
     "metadata": {},
     "output_type": "display_data"
    }
   ],
   "source": [
    "plot_metric('precision_recall_curve')"
   ]
  },
  {
   "cell_type": "code",
   "execution_count": null,
   "metadata": {},
   "outputs": [],
   "source": []
  }
 ],
 "metadata": {
  "kernelspec": {
   "display_name": "nlbayes-py3.10",
   "language": "python",
   "name": "python3"
  },
  "language_info": {
   "codemirror_mode": {
    "name": "ipython",
    "version": 3
   },
   "file_extension": ".py",
   "mimetype": "text/x-python",
   "name": "python",
   "nbconvert_exporter": "python",
   "pygments_lexer": "ipython3",
   "version": "3.10.6"
  },
  "orig_nbformat": 4,
  "vscode": {
   "interpreter": {
    "hash": "a6a9a2ddf96aba5819eccce1cda0396823ab1006ee5217fc2df5289e63df285a"
   }
  }
 },
 "nbformat": 4,
 "nbformat_minor": 2
}
